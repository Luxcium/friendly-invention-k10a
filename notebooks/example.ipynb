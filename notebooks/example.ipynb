{
 "cells": [
  {
   "cell_type": "markdown",
   "id": "5aeb9f23",
   "metadata": {},
   "source": [
    "# Example Notebook\n",
    "This is a placeholder for Jupyter exploration."
   ]
  }
 ],
 "metadata": {
  "language_info": {
   "name": "python"
  }
 },
 "nbformat": 4,
 "nbformat_minor": 5
}
